{
 "cells": [
  {
   "cell_type": "code",
   "execution_count": 7,
   "metadata": {},
   "outputs": [
    {
     "data": {
      "text/html": [
       "'xinfeng_alf_cleaned_eng'"
      ],
      "text/latex": [
       "'xinfeng\\_alf\\_cleaned\\_eng'"
      ],
      "text/markdown": [
       "'xinfeng_alf_cleaned_eng'"
      ],
      "text/plain": [
       "[1] \"xinfeng_alf_cleaned_eng\""
      ]
     },
     "metadata": {},
     "output_type": "display_data"
    },
    {
     "name": "stdout",
     "output_type": "stream",
     "text": [
      "Classes ‘tbl_df’, ‘tbl’ and 'data.frame':\t531 obs. of  27 variables:\n",
      " $ dta_collection_time  : POSIXct, format: \"2016-07-15\" \"2016-07-15\" ...\n",
      " $ contract_time        : POSIXct, format: \"2016-05-15\" \"2016-05-15\" ...\n",
      " $ ship_time            : POSIXct, format: \"2016-05-20\" \"2016-05-20\" ...\n",
      " $ bid_time             : POSIXct, format: \"2016-05-12\" \"2016-05-12\" ...\n",
      " $ vsl_company          : chr  \"华德\" \"华德\" \"华德\" \"华德\" ...\n",
      " $ vsl_name             : chr  \"增兴9\" \"增兴9\" \"金兆7\" \"金兆7\" ...\n",
      " $ vsl_type             : chr  \"0.5W\" \"0.5W\" \"0.5W\" \"0.5W\" ...\n",
      " $ customer             : chr  \"鞍钢\" \"鞍钢\" \"鞍钢\" \"鞍钢\" ...\n",
      " $ total_weight         : num  1042.2 1883.8 373 2381 74.7 ...\n",
      " $ cargo_type           : chr  \"钢材\" \"钢材\" \"钢材\" \"钢材\" ...\n",
      " $ start_port           : chr  \"鞍钢新厂码头\" \"鞍钢新厂码头\" \"鞍钢新厂码头\" \"鞍钢新厂码头\" ...\n",
      " $ p                    : chr  \"宁波宝达\" \"宁波海兆\" \"宁波宝达\" \"宁波海兆\" ...\n",
      " $ bid_port             : chr  \"宁波镇海\" \"宁波镇海\" \"宁波镇海\" \"宁波镇海\" ...\n",
      " $ port_type            : chr  \"5000吨以内\" \"5000吨以内\" \"5000吨以内\" \"5000吨以内\" ...\n",
      " $ port_type_value      : chr  \"5000\" \"5000\" \"5000\" \"5000\" ...\n",
      " $ port_price_diff      : num  5 5 5 5 5 5 5 5 0 5 ...\n",
      " $ distance             : num  715 715 715 715 715 715 830 715 715 715 ...\n",
      " $ customer_quote_time  : logi  NA NA NA NA NA NA ...\n",
      " $ actual_income        : num  39 39 39 39 39 39 39 39 34 39 ...\n",
      " $ actual_cost          : num  50 50 43 43 43 43 47 27 27 45 ...\n",
      " $ li_huo_cost          : num  NA NA NA NA NA NA NA 0.6 0.6 NA ...\n",
      " $ bang_dian_cost       : num  1 1 1 1 1 1 1 1 1 1 ...\n",
      " $ chao_qi_cost         : num  NA NA NA NA NA NA NA 2 2 NA ...\n",
      " $ kau_gang_cost        : num  NA NA NA NA NA NA NA NA NA NA ...\n",
      " $ same_time_competition: logi  NA NA NA NA NA NA ...\n",
      " $ other_factor         : logi  NA NA NA NA NA NA ...\n",
      " $ NA                   : num  1 NA NA NA NA NA NA NA NA NA ...\n"
     ]
    }
   ],
   "source": [
    "load(\"Cleaned_Trawind_Data_Eng_V0.RData\")\n",
    "ls()\n",
    "str(xinfeng_alf_cleaned_eng)"
   ]
  },
  {
   "cell_type": "code",
   "execution_count": 5,
   "metadata": {},
   "outputs": [
    {
     "data": {
      "text/html": [
       "'xinfeng_alf_cleaned_eng'"
      ],
      "text/latex": [
       "'xinfeng\\_alf\\_cleaned\\_eng'"
      ],
      "text/markdown": [
       "'xinfeng_alf_cleaned_eng'"
      ],
      "text/plain": [
       "[1] \"xinfeng_alf_cleaned_eng\""
      ]
     },
     "metadata": {},
     "output_type": "display_data"
    }
   ],
   "source": []
  },
  {
   "cell_type": "code",
   "execution_count": 6,
   "metadata": {},
   "outputs": [
    {
     "name": "stdout",
     "output_type": "stream",
     "text": [
      "Classes ‘tbl_df’, ‘tbl’ and 'data.frame':\t531 obs. of  27 variables:\n",
      " $ dta_collection_time  : POSIXct, format: \"2016-07-15\" \"2016-07-15\" ...\n",
      " $ contract_time        : POSIXct, format: \"2016-05-15\" \"2016-05-15\" ...\n",
      " $ ship_time            : POSIXct, format: \"2016-05-20\" \"2016-05-20\" ...\n",
      " $ bid_time             : POSIXct, format: \"2016-05-12\" \"2016-05-12\" ...\n",
      " $ vsl_company          : chr  \"华德\" \"华德\" \"华德\" \"华德\" ...\n",
      " $ vsl_name             : chr  \"增兴9\" \"增兴9\" \"金兆7\" \"金兆7\" ...\n",
      " $ vsl_type             : chr  \"0.5W\" \"0.5W\" \"0.5W\" \"0.5W\" ...\n",
      " $ customer             : chr  \"鞍钢\" \"鞍钢\" \"鞍钢\" \"鞍钢\" ...\n",
      " $ total_weight         : num  1042.2 1883.8 373 2381 74.7 ...\n",
      " $ cargo_type           : chr  \"钢材\" \"钢材\" \"钢材\" \"钢材\" ...\n",
      " $ start_port           : chr  \"鞍钢新厂码头\" \"鞍钢新厂码头\" \"鞍钢新厂码头\" \"鞍钢新厂码头\" ...\n",
      " $ p                    : chr  \"宁波宝达\" \"宁波海兆\" \"宁波宝达\" \"宁波海兆\" ...\n",
      " $ bid_port             : chr  \"宁波镇海\" \"宁波镇海\" \"宁波镇海\" \"宁波镇海\" ...\n",
      " $ port_type            : chr  \"5000吨以内\" \"5000吨以内\" \"5000吨以内\" \"5000吨以内\" ...\n",
      " $ port_type_value      : chr  \"5000\" \"5000\" \"5000\" \"5000\" ...\n",
      " $ port_price_diff      : num  5 5 5 5 5 5 5 5 0 5 ...\n",
      " $ distance             : num  715 715 715 715 715 715 830 715 715 715 ...\n",
      " $ customer_quote_time  : logi  NA NA NA NA NA NA ...\n",
      " $ actual_income        : num  39 39 39 39 39 39 39 39 34 39 ...\n",
      " $ actual_cost          : num  50 50 43 43 43 43 47 27 27 45 ...\n",
      " $ li_huo_cost          : num  NA NA NA NA NA NA NA 0.6 0.6 NA ...\n",
      " $ bang_dian_cost       : num  1 1 1 1 1 1 1 1 1 1 ...\n",
      " $ chao_qi_cost         : num  NA NA NA NA NA NA NA 2 2 NA ...\n",
      " $ kau_gang_cost        : num  NA NA NA NA NA NA NA NA NA NA ...\n",
      " $ same_time_competition: logi  NA NA NA NA NA NA ...\n",
      " $ other_factor         : logi  NA NA NA NA NA NA ...\n",
      " $ NA                   : num  1 NA NA NA NA NA NA NA NA NA ...\n"
     ]
    }
   ],
   "source": []
  },
  {
   "cell_type": "code",
   "execution_count": null,
   "metadata": {},
   "outputs": [],
   "source": []
  }
 ],
 "metadata": {
  "kernelspec": {
   "display_name": "R",
   "language": "R",
   "name": "ir"
  },
  "language_info": {
   "codemirror_mode": "r",
   "file_extension": ".r",
   "mimetype": "text/x-r-source",
   "name": "R",
   "pygments_lexer": "r",
   "version": "3.5.1"
  }
 },
 "nbformat": 4,
 "nbformat_minor": 2
}
