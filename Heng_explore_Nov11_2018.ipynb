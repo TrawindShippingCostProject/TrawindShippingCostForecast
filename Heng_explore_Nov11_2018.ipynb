{
 "cells": [
  {
   "cell_type": "code",
   "execution_count": 7,
   "metadata": {},
   "outputs": [
    {
     "data": {
      "text/html": [
       "'xinfeng_alf_cleaned_eng'"
      ],
      "text/latex": [
       "'xinfeng\\_alf\\_cleaned\\_eng'"
      ],
      "text/markdown": [
       "'xinfeng_alf_cleaned_eng'"
      ],
      "text/plain": [
       "[1] \"xinfeng_alf_cleaned_eng\""
      ]
     },
     "metadata": {},
     "output_type": "display_data"
    },
    {
     "name": "stdout",
     "output_type": "stream",
     "text": [
      "Classes ‘tbl_df’, ‘tbl’ and 'data.frame':\t531 obs. of  27 variables:\n",
      " $ dta_collection_time  : POSIXct, format: \"2016-07-15\" \"2016-07-15\" ...\n",
      " $ contract_time        : POSIXct, format: \"2016-05-15\" \"2016-05-15\" ...\n",
      " $ ship_time            : POSIXct, format: \"2016-05-20\" \"2016-05-20\" ...\n",
      " $ bid_time             : POSIXct, format: \"2016-05-12\" \"2016-05-12\" ...\n",
      " $ vsl_company          : chr  \"华德\" \"华德\" \"华德\" \"华德\" ...\n",
      " $ vsl_name             : chr  \"增兴9\" \"增兴9\" \"金兆7\" \"金兆7\" ...\n",
      " $ vsl_type             : chr  \"0.5W\" \"0.5W\" \"0.5W\" \"0.5W\" ...\n",
      " $ customer             : chr  \"鞍钢\" \"鞍钢\" \"鞍钢\" \"鞍钢\" ...\n",
      " $ total_weight         : num  1042.2 1883.8 373 2381 74.7 ...\n",
      " $ cargo_type           : chr  \"钢材\" \"钢材\" \"钢材\" \"钢材\" ...\n",
      " $ start_port           : chr  \"鞍钢新厂码头\" \"鞍钢新厂码头\" \"鞍钢新厂码头\" \"鞍钢新厂码头\" ...\n",
      " $ p                    : chr  \"宁波宝达\" \"宁波海兆\" \"宁波宝达\" \"宁波海兆\" ...\n",
      " $ bid_port             : chr  \"宁波镇海\" \"宁波镇海\" \"宁波镇海\" \"宁波镇海\" ...\n",
      " $ port_type            : chr  \"5000吨以内\" \"5000吨以内\" \"5000吨以内\" \"5000吨以内\" ...\n",
      " $ port_type_value      : chr  \"5000\" \"5000\" \"5000\" \"5000\" ...\n",
      " $ port_price_diff      : num  5 5 5 5 5 5 5 5 0 5 ...\n",
      " $ distance             : num  715 715 715 715 715 715 830 715 715 715 ...\n",
      " $ customer_quote_time  : logi  NA NA NA NA NA NA ...\n",
      " $ actual_income        : num  39 39 39 39 39 39 39 39 34 39 ...\n",
      " $ actual_cost          : num  50 50 43 43 43 43 47 27 27 45 ...\n",
      " $ li_huo_cost          : num  NA NA NA NA NA NA NA 0.6 0.6 NA ...\n",
      " $ bang_dian_cost       : num  1 1 1 1 1 1 1 1 1 1 ...\n",
      " $ chao_qi_cost         : num  NA NA NA NA NA NA NA 2 2 NA ...\n",
      " $ kau_gang_cost        : num  NA NA NA NA NA NA NA NA NA NA ...\n",
      " $ same_time_competition: logi  NA NA NA NA NA NA ...\n",
      " $ other_factor         : logi  NA NA NA NA NA NA ...\n",
      " $ NA                   : num  1 NA NA NA NA NA NA NA NA NA ...\n"
     ]
    }
   ],
   "source": [
    "load(\"Cleaned_Trawind_Data_Eng_V0.RData\")\n",
    "ls()\n",
    "str(xinfeng_alf_cleaned_eng)"
   ]
  },
  {
   "cell_type": "code",
   "execution_count": 8,
   "metadata": {},
   "outputs": [
    {
     "data": {
      "text/html": [
       "<ol class=list-inline>\n",
       "\t<li>'宁波宝达'</li>\n",
       "\t<li>'宁波海兆'</li>\n",
       "\t<li>'宁波华埠'</li>\n",
       "\t<li>'宁波江甬'</li>\n",
       "\t<li>'椒江三山再东'</li>\n",
       "\t<li>'宁波镇海'</li>\n",
       "\t<li>'宁波北仑永港'</li>\n",
       "\t<li>'宁波大榭'</li>\n",
       "\t<li>'象山'</li>\n",
       "\t<li>'椒江八达'</li>\n",
       "\t<li>'玉环'</li>\n",
       "\t<li>'椒江大华'</li>\n",
       "\t<li>'椒江再东'</li>\n",
       "\t<li>'椒江三山八达'</li>\n",
       "\t<li>'椒江三山大华'</li>\n",
       "\t<li>'椒江'</li>\n",
       "</ol>\n"
      ],
      "text/latex": [
       "\\begin{enumerate*}\n",
       "\\item '宁波宝达'\n",
       "\\item '宁波海兆'\n",
       "\\item '宁波华埠'\n",
       "\\item '宁波江甬'\n",
       "\\item '椒江三山再东'\n",
       "\\item '宁波镇海'\n",
       "\\item '宁波北仑永港'\n",
       "\\item '宁波大榭'\n",
       "\\item '象山'\n",
       "\\item '椒江八达'\n",
       "\\item '玉环'\n",
       "\\item '椒江大华'\n",
       "\\item '椒江再东'\n",
       "\\item '椒江三山八达'\n",
       "\\item '椒江三山大华'\n",
       "\\item '椒江'\n",
       "\\end{enumerate*}\n"
      ],
      "text/markdown": [
       "1. '宁波宝达'\n",
       "2. '宁波海兆'\n",
       "3. '宁波华埠'\n",
       "4. '宁波江甬'\n",
       "5. '椒江三山再东'\n",
       "6. '宁波镇海'\n",
       "7. '宁波北仑永港'\n",
       "8. '宁波大榭'\n",
       "9. '象山'\n",
       "10. '椒江八达'\n",
       "11. '玉环'\n",
       "12. '椒江大华'\n",
       "13. '椒江再东'\n",
       "14. '椒江三山八达'\n",
       "15. '椒江三山大华'\n",
       "16. '椒江'\n",
       "\n",
       "\n"
      ],
      "text/plain": [
       " [1] \"宁波宝达\"     \"宁波海兆\"     \"宁波华埠\"     \"宁波江甬\"     \"椒江三山再东\"\n",
       " [6] \"宁波镇海\"     \"宁波北仑永港\" \"宁波大榭\"     \"象山\"         \"椒江八达\"    \n",
       "[11] \"玉环\"         \"椒江大华\"     \"椒江再东\"     \"椒江三山八达\" \"椒江三山大华\"\n",
       "[16] \"椒江\"        "
      ]
     },
     "metadata": {},
     "output_type": "display_data"
    }
   ],
   "source": [
    "unique(xinfeng_alf_cleaned_eng$p)"
   ]
  },
  {
   "cell_type": "code",
   "execution_count": 9,
   "metadata": {},
   "outputs": [],
   "source": [
    "# Plot the actual cost with ggplot2\n",
    "library(ggplot2)\n",
    "p <-ggplot(xinfeng_alf_cleaned_eng, aes(x = contract_time, y = port))"
   ]
  },
  {
   "cell_type": "code",
   "execution_count": null,
   "metadata": {},
   "outputs": [],
   "source": []
  }
 ],
 "metadata": {
  "kernelspec": {
   "display_name": "R",
   "language": "R",
   "name": "ir"
  },
  "language_info": {
   "codemirror_mode": "r",
   "file_extension": ".r",
   "mimetype": "text/x-r-source",
   "name": "R",
   "pygments_lexer": "r",
   "version": "3.5.1"
  }
 },
 "nbformat": 4,
 "nbformat_minor": 2
}
